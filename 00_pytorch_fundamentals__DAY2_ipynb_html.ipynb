{
  "nbformat": 4,
  "nbformat_minor": 0,
  "metadata": {
    "colab": {
      "provenance": [],
      "authorship_tag": "ABX9TyMHgPJnjlYI9yt7jFGISRr+"
    },
    "kernelspec": {
      "name": "python3",
      "display_name": "Python 3"
    },
    "language_info": {
      "name": "python"
    }
  },
  "cells": [
    {
      "cell_type": "code",
      "source": [
        "import torch\n",
        "import pandas as pd\n",
        "import numpy as np\n",
        "import matplotlib.pyplot as plt\n",
        "print(torch.__version__)"
      ],
      "metadata": {
        "colab": {
          "base_uri": "https://localhost:8080/"
        },
        "id": "r0dgOBA3xScl",
        "outputId": "0844e4d5-ae3f-435b-91bd-d4d7286a0596"
      },
      "execution_count": null,
      "outputs": [
        {
          "output_type": "stream",
          "name": "stdout",
          "text": [
            "2.1.0+cu121\n"
          ]
        }
      ]
    },
    {
      "cell_type": "markdown",
      "source": [
        "###  Random Tensors\n",
        "\n",
        "why random tensors?\n",
        "Random tensors are important because the way many neural networks learn is that they start with tensors full of random nubers and then adjust those random numbers to better represent the data.\n",
        "\n",
        "'Start withrandom numbers -> look ata data -> update random numbers -> look at data -> update random numbers"
      ],
      "metadata": {
        "id": "1IOlF5ovvnMS"
      }
    },
    {
      "cell_type": "code",
      "source": [
        "#Create a random tensor of size(3,4)\n",
        "random_tensor =torch.rand(3,4)\n",
        "random_tensor"
      ],
      "metadata": {
        "colab": {
          "base_uri": "https://localhost:8080/"
        },
        "id": "Gyh642LcvmsB",
        "outputId": "ff73491c-9e84-4dd4-b219-8d35ab90d2e4"
      },
      "execution_count": null,
      "outputs": [
        {
          "output_type": "execute_result",
          "data": {
            "text/plain": [
              "tensor([[0.4178, 0.6747, 0.4808, 0.7592],\n",
              "        [0.7722, 0.7413, 0.0349, 0.8514],\n",
              "        [0.7528, 0.8140, 0.0486, 0.6278]])"
            ]
          },
          "metadata": {},
          "execution_count": 12
        }
      ]
    },
    {
      "cell_type": "code",
      "source": [
        "random_tensor.ndim"
      ],
      "metadata": {
        "colab": {
          "base_uri": "https://localhost:8080/"
        },
        "id": "zpPAdFjdxdj4",
        "outputId": "98bcc475-185d-484e-c48c-3964387c7639"
      },
      "execution_count": null,
      "outputs": [
        {
          "output_type": "execute_result",
          "data": {
            "text/plain": [
              "2"
            ]
          },
          "metadata": {},
          "execution_count": 13
        }
      ]
    },
    {
      "cell_type": "markdown",
      "source": [
        "##MY OWN EXAMPLES FOR RANDOM-TENSOR"
      ],
      "metadata": {
        "id": "NMEri0T90EFz"
      }
    },
    {
      "cell_type": "code",
      "source": [
        "#Create a random tensor of size(3,4)\n",
        "random_tensor =torch.rand(10,10)\n",
        "random_tensor"
      ],
      "metadata": {
        "colab": {
          "base_uri": "https://localhost:8080/"
        },
        "id": "lKCmjmsGxjQ9",
        "outputId": "418b7281-e9be-437e-8700-1e02c208217d"
      },
      "execution_count": null,
      "outputs": [
        {
          "output_type": "execute_result",
          "data": {
            "text/plain": [
              "tensor([[0.5770, 0.5080, 0.1152, 0.5607, 0.7711, 0.5109, 0.7654, 0.7761, 0.0891,\n",
              "         0.9157],\n",
              "        [0.5376, 0.3144, 0.7173, 0.8443, 0.4954, 0.9409, 0.3878, 0.7492, 0.9445,\n",
              "         0.8573],\n",
              "        [0.6191, 0.0612, 0.4526, 0.2744, 0.5891, 0.5632, 0.9022, 0.8693, 0.8456,\n",
              "         0.6635],\n",
              "        [0.2111, 0.0826, 0.0599, 0.1704, 0.8565, 0.8867, 0.7480, 0.7461, 0.8149,\n",
              "         0.2352],\n",
              "        [0.8092, 0.0587, 0.6027, 0.6863, 0.1900, 0.6206, 0.2989, 0.8508, 0.6842,\n",
              "         0.6061],\n",
              "        [0.8870, 0.9660, 0.7515, 0.6028, 0.6342, 0.4320, 0.7670, 0.3722, 0.3521,\n",
              "         0.3808],\n",
              "        [0.8967, 0.3143, 0.0979, 0.4279, 0.2124, 0.0990, 0.8636, 0.6071, 0.6480,\n",
              "         0.1295],\n",
              "        [0.9561, 0.1882, 0.5044, 0.9094, 0.0240, 0.1858, 0.9180, 0.4896, 0.3802,\n",
              "         0.1484],\n",
              "        [0.0508, 0.3625, 0.9876, 0.6257, 0.8981, 0.4813, 0.9143, 0.2578, 0.1585,\n",
              "         0.3574],\n",
              "        [0.5071, 0.8178, 0.5401, 0.3743, 0.9013, 0.5475, 0.1963, 0.4174, 0.0033,\n",
              "         0.4581]])"
            ]
          },
          "metadata": {},
          "execution_count": 14
        }
      ]
    },
    {
      "cell_type": "code",
      "source": [
        "random_tensor.ndim"
      ],
      "metadata": {
        "colab": {
          "base_uri": "https://localhost:8080/"
        },
        "id": "VSTtAS_T0a4W",
        "outputId": "0caa8de8-087f-4f94-c980-c3a30924e3f9"
      },
      "execution_count": null,
      "outputs": [
        {
          "output_type": "execute_result",
          "data": {
            "text/plain": [
              "2"
            ]
          },
          "metadata": {},
          "execution_count": 15
        }
      ]
    },
    {
      "cell_type": "code",
      "source": [
        "#Create a random tensor of size(3,4)\n",
        "random_tensor =torch.rand(10,10),10\n",
        "random_tensor"
      ],
      "metadata": {
        "colab": {
          "base_uri": "https://localhost:8080/"
        },
        "id": "-6cfj9EJxxlK",
        "outputId": "b8e1c7bd-90f1-49c8-d7ad-e7db7bc9a632"
      },
      "execution_count": null,
      "outputs": [
        {
          "output_type": "execute_result",
          "data": {
            "text/plain": [
              "(tensor([[0.4782, 0.8109, 0.4915, 0.9259, 0.4715, 0.2908, 0.0145, 0.9255, 0.7414,\n",
              "          0.5864],\n",
              "         [0.4371, 0.0014, 0.3601, 0.6399, 0.2383, 0.6984, 0.1029, 0.2098, 0.7464,\n",
              "          0.5544],\n",
              "         [0.4097, 0.4625, 0.9646, 0.0454, 0.4031, 0.9805, 0.0564, 0.9785, 0.1210,\n",
              "          0.1332],\n",
              "         [0.4885, 0.8101, 0.2472, 0.4538, 0.8530, 0.7798, 0.5239, 0.2322, 0.9907,\n",
              "          0.4500],\n",
              "         [0.2907, 0.7029, 0.1994, 0.4989, 0.7820, 0.6561, 0.7892, 0.8841, 0.9757,\n",
              "          0.7350],\n",
              "         [0.7421, 0.4027, 0.6903, 0.3281, 0.3191, 0.8618, 0.1797, 0.6832, 0.8470,\n",
              "          0.6315],\n",
              "         [0.2558, 0.8162, 0.0187, 0.9136, 0.9018, 0.5272, 0.9089, 0.5895, 0.2040,\n",
              "          0.8329],\n",
              "         [0.5560, 0.9560, 0.5594, 0.2250, 0.3803, 0.2469, 0.5124, 0.5410, 0.7751,\n",
              "          0.5760],\n",
              "         [0.5581, 0.2525, 0.3691, 0.2525, 0.6024, 0.9516, 0.5291, 0.9646, 0.1224,\n",
              "          0.2797],\n",
              "         [0.4513, 0.5404, 0.6410, 0.6308, 0.0467, 0.2641, 0.9262, 0.1630, 0.1390,\n",
              "          0.3037]]),\n",
              " 10)"
            ]
          },
          "metadata": {},
          "execution_count": 7
        }
      ]
    },
    {
      "cell_type": "code",
      "source": [
        "random_tensor.ndim"
      ],
      "metadata": {
        "colab": {
          "base_uri": "https://localhost:8080/"
        },
        "id": "iKdX6SHOx3Mj",
        "outputId": "c06075ce-79ac-40a8-fa35-5d745951dc81"
      },
      "execution_count": null,
      "outputs": [
        {
          "output_type": "execute_result",
          "data": {
            "text/plain": [
              "2"
            ]
          },
          "metadata": {},
          "execution_count": 16
        }
      ]
    },
    {
      "cell_type": "code",
      "source": [
        "# Create a random tensor with similar shape to an image tensor\n",
        "random_image_size_tensor =torch.rand(size=(224,224,3))#height,width,colour channels (R ,G, B)\n",
        "random_image_size_tensor.shape, random_image_size_tensor.ndim"
      ],
      "metadata": {
        "colab": {
          "base_uri": "https://localhost:8080/"
        },
        "id": "kia0nTO0x-4t",
        "outputId": "b857760d-31b8-4d77-d75f-ed181fdc335b"
      },
      "execution_count": null,
      "outputs": [
        {
          "output_type": "execute_result",
          "data": {
            "text/plain": [
              "(torch.Size([224, 224, 3]), 3)"
            ]
          },
          "metadata": {},
          "execution_count": 8
        }
      ]
    },
    {
      "cell_type": "markdown",
      "source": [
        "###Zeros and Ones"
      ],
      "metadata": {
        "id": "5TGDuqNy04wR"
      }
    },
    {
      "cell_type": "code",
      "source": [
        "#Create a tensor of all zeros\n",
        "zeros =torch.zeros(size=(3,4))\n",
        "zeros"
      ],
      "metadata": {
        "colab": {
          "base_uri": "https://localhost:8080/"
        },
        "id": "0EaIUVsF1DVz",
        "outputId": "ae28b736-9aef-4421-b3d6-8145558fc967"
      },
      "execution_count": null,
      "outputs": [
        {
          "output_type": "execute_result",
          "data": {
            "text/plain": [
              "tensor([[0., 0., 0., 0.],\n",
              "        [0., 0., 0., 0.],\n",
              "        [0., 0., 0., 0.]])"
            ]
          },
          "metadata": {},
          "execution_count": 17
        }
      ]
    },
    {
      "cell_type": "code",
      "source": [
        "#Create a tensor of all ones\n",
        "ones =  torch.ones(size=(3,4))\n",
        "ones"
      ],
      "metadata": {
        "colab": {
          "base_uri": "https://localhost:8080/"
        },
        "id": "1ZwWCgve1WYM",
        "outputId": "1860b1e6-a1c1-4667-ff00-673d56c8527e"
      },
      "execution_count": null,
      "outputs": [
        {
          "output_type": "execute_result",
          "data": {
            "text/plain": [
              "tensor([[1., 1., 1., 1.],\n",
              "        [1., 1., 1., 1.],\n",
              "        [1., 1., 1., 1.]])"
            ]
          },
          "metadata": {},
          "execution_count": 19
        }
      ]
    },
    {
      "cell_type": "code",
      "source": [
        "ones.dtype"
      ],
      "metadata": {
        "colab": {
          "base_uri": "https://localhost:8080/"
        },
        "id": "gwPHRcg51pFI",
        "outputId": "5e50d2b8-89b6-495f-c027-aaea6607e2a7"
      },
      "execution_count": null,
      "outputs": [
        {
          "output_type": "execute_result",
          "data": {
            "text/plain": [
              "torch.float32"
            ]
          },
          "metadata": {},
          "execution_count": 20
        }
      ]
    }
  ]
}