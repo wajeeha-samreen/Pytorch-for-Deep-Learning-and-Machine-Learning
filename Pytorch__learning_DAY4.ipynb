{
  "nbformat": 4,
  "nbformat_minor": 0,
  "metadata": {
    "colab": {
      "provenance": [],
      "authorship_tag": "ABX9TyNsJTU8/lUnB0BoT/gDUCPt"
    },
    "kernelspec": {
      "name": "python3",
      "display_name": "Python 3"
    },
    "language_info": {
      "name": "python"
    }
  },
  "cells": [
    {
      "cell_type": "markdown",
      "source": [
        "##Finding the min,max,mean,sum,etc(tensor aggregation)"
      ],
      "metadata": {
        "id": "UgBfX88BXfTe"
      }
    },
    {
      "cell_type": "code",
      "source": [
        "import torch\n",
        "import pandas as pd\n",
        "import numpy as np\n",
        "import matplotlib.pyplot as plt\n",
        "print(torch.__version__)"
      ],
      "metadata": {
        "colab": {
          "base_uri": "https://localhost:8080/"
        },
        "id": "1ixYWCQcbGta",
        "outputId": "2b15cf95-95ac-4e22-81cb-84d9053681bd"
      },
      "execution_count": 16,
      "outputs": [
        {
          "output_type": "stream",
          "name": "stdout",
          "text": [
            "2.1.0+cu121\n"
          ]
        }
      ]
    },
    {
      "cell_type": "code",
      "execution_count": 28,
      "metadata": {
        "colab": {
          "base_uri": "https://localhost:8080/"
        },
        "id": "ryeV0jHOXV_d",
        "outputId": "00c2c80e-2c65-4767-d942-674d077b024d"
      },
      "outputs": [
        {
          "output_type": "execute_result",
          "data": {
            "text/plain": [
              "tensor([ 1, 11, 21, 31, 41, 51, 61, 71, 81, 91])"
            ]
          },
          "metadata": {},
          "execution_count": 28
        }
      ],
      "source": [
        "#create a tensor\n",
        "x = torch.arange(1, 100, 10)\n",
        "x"
      ]
    },
    {
      "cell_type": "code",
      "source": [
        "#Find the min\n",
        "torch.min(x), x.min()"
      ],
      "metadata": {
        "colab": {
          "base_uri": "https://localhost:8080/"
        },
        "id": "6PJAN70Ubf05",
        "outputId": "6ff77eea-419e-43d6-9674-a8e6cf6f93f3"
      },
      "execution_count": 29,
      "outputs": [
        {
          "output_type": "execute_result",
          "data": {
            "text/plain": [
              "(tensor(1), tensor(1))"
            ]
          },
          "metadata": {},
          "execution_count": 29
        }
      ]
    },
    {
      "cell_type": "code",
      "source": [
        "\n",
        "# Find the max\n",
        "#Find the min\n",
        "torch.max(x), x.max()"
      ],
      "metadata": {
        "colab": {
          "base_uri": "https://localhost:8080/"
        },
        "id": "e0YPEOn3fq6J",
        "outputId": "2cf40ee4-b386-40ff-f599-a5aa53a4ac53"
      },
      "execution_count": 30,
      "outputs": [
        {
          "output_type": "execute_result",
          "data": {
            "text/plain": [
              "(tensor(91), tensor(91))"
            ]
          },
          "metadata": {},
          "execution_count": 30
        }
      ]
    },
    {
      "cell_type": "code",
      "source": [
        "## Find the mean -note: the torch.mean() function requires a tensor of float32 datatype to work\n",
        "torch.mean(x.type(torch.float32)),x.type(torch.float32).mean()"
      ],
      "metadata": {
        "colab": {
          "base_uri": "https://localhost:8080/"
        },
        "id": "INlStWESf7ky",
        "outputId": "074b3e4a-732f-4dd4-9491-7bc25a01eb3e"
      },
      "execution_count": 31,
      "outputs": [
        {
          "output_type": "execute_result",
          "data": {
            "text/plain": [
              "(tensor(46.), tensor(46.))"
            ]
          },
          "metadata": {},
          "execution_count": 31
        }
      ]
    },
    {
      "cell_type": "code",
      "source": [
        "# Find the sum\n",
        "torch.sum(x), x.sum()\n"
      ],
      "metadata": {
        "colab": {
          "base_uri": "https://localhost:8080/"
        },
        "id": "9IzJl2w-iGVa",
        "outputId": "e08cab49-2db3-4678-966b-e29932489ab0"
      },
      "execution_count": 32,
      "outputs": [
        {
          "output_type": "execute_result",
          "data": {
            "text/plain": [
              "(tensor(460), tensor(460))"
            ]
          },
          "metadata": {},
          "execution_count": 32
        }
      ]
    },
    {
      "cell_type": "markdown",
      "source": [
        "## Finding the positional min and max"
      ],
      "metadata": {
        "id": "AkW-KLQbitWt"
      }
    },
    {
      "cell_type": "code",
      "source": [
        "x"
      ],
      "metadata": {
        "colab": {
          "base_uri": "https://localhost:8080/"
        },
        "id": "IR3mS9LiiS7V",
        "outputId": "6a3c2812-a88e-4f76-d67c-ed294d3807a9"
      },
      "execution_count": 33,
      "outputs": [
        {
          "output_type": "execute_result",
          "data": {
            "text/plain": [
              "tensor([ 1, 11, 21, 31, 41, 51, 61, 71, 81, 91])"
            ]
          },
          "metadata": {},
          "execution_count": 33
        }
      ]
    },
    {
      "cell_type": "code",
      "source": [
        "# Find the position in tensor that has the minimum value with argmin() -> returns index position  of target tensor where the minimum value occurs\n",
        "x.argmin()"
      ],
      "metadata": {
        "colab": {
          "base_uri": "https://localhost:8080/"
        },
        "id": "nNOPb7E-i0Ka",
        "outputId": "b2cd5b68-8120-419e-cd19-30e3d66dbb28"
      },
      "execution_count": 34,
      "outputs": [
        {
          "output_type": "execute_result",
          "data": {
            "text/plain": [
              "tensor(0)"
            ]
          },
          "metadata": {},
          "execution_count": 34
        }
      ]
    },
    {
      "cell_type": "code",
      "source": [
        "x[0]"
      ],
      "metadata": {
        "colab": {
          "base_uri": "https://localhost:8080/"
        },
        "id": "_eBPUajijWxa",
        "outputId": "12d54f77-b107-4af4-e66d-5569b126bc6f"
      },
      "execution_count": 35,
      "outputs": [
        {
          "output_type": "execute_result",
          "data": {
            "text/plain": [
              "tensor(1)"
            ]
          },
          "metadata": {},
          "execution_count": 35
        }
      ]
    },
    {
      "cell_type": "code",
      "source": [
        "# Find the position in tensor that has the maximum value with argmax()\n",
        "x.argmax()"
      ],
      "metadata": {
        "colab": {
          "base_uri": "https://localhost:8080/"
        },
        "id": "bj8wkG80jYpX",
        "outputId": "ffbe7fb1-ec7d-4eaa-d120-26515c18f323"
      },
      "execution_count": 36,
      "outputs": [
        {
          "output_type": "execute_result",
          "data": {
            "text/plain": [
              "tensor(9)"
            ]
          },
          "metadata": {},
          "execution_count": 36
        }
      ]
    },
    {
      "cell_type": "code",
      "source": [
        "x[9]"
      ],
      "metadata": {
        "colab": {
          "base_uri": "https://localhost:8080/"
        },
        "id": "1pmXF7nYjn2A",
        "outputId": "ca2e70ac-e45e-41b7-9619-9fa607df4e49"
      },
      "execution_count": 37,
      "outputs": [
        {
          "output_type": "execute_result",
          "data": {
            "text/plain": [
              "tensor(91)"
            ]
          },
          "metadata": {},
          "execution_count": 37
        }
      ]
    },
    {
      "cell_type": "code",
      "source": [
        "x"
      ],
      "metadata": {
        "colab": {
          "base_uri": "https://localhost:8080/"
        },
        "id": "05qESgf3js1l",
        "outputId": "c603e30b-25c9-4cb8-d95a-1cf39a23fb03"
      },
      "execution_count": 38,
      "outputs": [
        {
          "output_type": "execute_result",
          "data": {
            "text/plain": [
              "tensor([ 1, 11, 21, 31, 41, 51, 61, 71, 81, 91])"
            ]
          },
          "metadata": {},
          "execution_count": 38
        }
      ]
    },
    {
      "cell_type": "markdown",
      "source": [
        "## Reshaping ,stacking, sqeezing and unsqeezing tensors\n",
        "\n",
        "* Reshaping -reshapes an input tensor to a defined shape\n",
        "* View - Return a view of an input tensor of certain shape but keep the same memory as the original tensor\n",
        "* Stacking - combine multiple tensors on the top of each other (vstack) or side by side (hstack)\n",
        "* Sqeeze - removes all`1` dimensions from a tesnor\n",
        "* Unsqueeze - add a `1` dimension from a tensor\n",
        "* Permute - Return a view of the input with dimensions permuted (swapped) in a certain way"
      ],
      "metadata": {
        "id": "vmdr3Bldkh0M"
      }
    },
    {
      "cell_type": "code",
      "source": [
        "# Let's create a tesnor\n",
        "import torch\n",
        "x = torch.arange(1.,10.)\n",
        "x, x.shape"
      ],
      "metadata": {
        "colab": {
          "base_uri": "https://localhost:8080/"
        },
        "id": "KWalPLr5j_os",
        "outputId": "f2a9bfef-18cd-48d1-eed5-9007d1141d42"
      },
      "execution_count": 40,
      "outputs": [
        {
          "output_type": "execute_result",
          "data": {
            "text/plain": [
              "(tensor([1., 2., 3., 4., 5., 6., 7., 8., 9.]), torch.Size([9]))"
            ]
          },
          "metadata": {},
          "execution_count": 40
        }
      ]
    },
    {
      "cell_type": "code",
      "source": [
        "# Add an extra dimension\n",
        "x_reshaped = x.reshape(1,9)\n",
        "x_reshaped, x_reshaped.shape"
      ],
      "metadata": {
        "colab": {
          "base_uri": "https://localhost:8080/"
        },
        "id": "cCdMQ_SHkhid",
        "outputId": "7181d1ba-efcb-4c45-a0a8-2b5977f0a2ce"
      },
      "execution_count": 42,
      "outputs": [
        {
          "output_type": "execute_result",
          "data": {
            "text/plain": [
              "(tensor([[1., 2., 3., 4., 5., 6., 7., 8., 9.]]), torch.Size([1, 9]))"
            ]
          },
          "metadata": {},
          "execution_count": 42
        }
      ]
    },
    {
      "cell_type": "code",
      "source": [
        "# Add an extra dimension\n",
        "x_reshaped = x.reshape(9,1)\n",
        "x_reshaped, x_reshaped.shape"
      ],
      "metadata": {
        "colab": {
          "base_uri": "https://localhost:8080/"
        },
        "id": "vwyQa3Q-smjA",
        "outputId": "de32a7d6-c289-4b9e-f556-bc8e03e4dfb8"
      },
      "execution_count": 43,
      "outputs": [
        {
          "output_type": "execute_result",
          "data": {
            "text/plain": [
              "(tensor([[1.],\n",
              "         [2.],\n",
              "         [3.],\n",
              "         [4.],\n",
              "         [5.],\n",
              "         [6.],\n",
              "         [7.],\n",
              "         [8.],\n",
              "         [9.]]),\n",
              " torch.Size([9, 1]))"
            ]
          },
          "metadata": {},
          "execution_count": 43
        }
      ]
    },
    {
      "cell_type": "code",
      "source": [
        "# Change the view\n",
        "z = x.view(1,9)\n",
        "z,z.shape"
      ],
      "metadata": {
        "colab": {
          "base_uri": "https://localhost:8080/"
        },
        "id": "n8EzopeNyiD8",
        "outputId": "560e46e6-761c-4fbb-bbd5-c5d53ea18db4"
      },
      "execution_count": 44,
      "outputs": [
        {
          "output_type": "execute_result",
          "data": {
            "text/plain": [
              "(tensor([[1., 2., 3., 4., 5., 6., 7., 8., 9.]]), torch.Size([1, 9]))"
            ]
          },
          "metadata": {},
          "execution_count": 44
        }
      ]
    },
    {
      "cell_type": "code",
      "source": [
        "# Changing z changes x( because a view of a tensor shares the same memory as the original input )\n",
        "z [:,0] = 5\n",
        "z,x"
      ],
      "metadata": {
        "colab": {
          "base_uri": "https://localhost:8080/"
        },
        "id": "30CrmaIKzFwF",
        "outputId": "6be9c184-bb24-4d44-e866-09edeb0ac167"
      },
      "execution_count": 45,
      "outputs": [
        {
          "output_type": "execute_result",
          "data": {
            "text/plain": [
              "(tensor([[5., 2., 3., 4., 5., 6., 7., 8., 9.]]),\n",
              " tensor([5., 2., 3., 4., 5., 6., 7., 8., 9.]))"
            ]
          },
          "metadata": {},
          "execution_count": 45
        }
      ]
    },
    {
      "cell_type": "code",
      "source": [
        "# Stack tensors on top of each other\n",
        "x_stacked =torch.stack([x ,x ,x, x], dim=0)\n",
        "x_stacked"
      ],
      "metadata": {
        "colab": {
          "base_uri": "https://localhost:8080/"
        },
        "id": "IOO-QG82zILA",
        "outputId": "b3b4ddc2-6f14-4184-ff3c-ad523e5630bf"
      },
      "execution_count": 48,
      "outputs": [
        {
          "output_type": "execute_result",
          "data": {
            "text/plain": [
              "tensor([[5., 2., 3., 4., 5., 6., 7., 8., 9.],\n",
              "        [5., 2., 3., 4., 5., 6., 7., 8., 9.],\n",
              "        [5., 2., 3., 4., 5., 6., 7., 8., 9.],\n",
              "        [5., 2., 3., 4., 5., 6., 7., 8., 9.]])"
            ]
          },
          "metadata": {},
          "execution_count": 48
        }
      ]
    },
    {
      "cell_type": "code",
      "source": [
        "# torch.squeeze() - removes all single dimensions from a target tensor\n",
        "print(f\"Previous tensor:{x_reshaped}\")\n",
        "print(f\"Previous shape:{x_reshaped.shape}\")\n",
        "# Remove extra dimensions from x_reshaped\n",
        "x_squeezed = x_reshaped.squeeze()\n",
        "print(f\"\\nNew tensor:{x_squeezed}\")\n",
        "\n",
        "print(f\"New shape:{x_squeezed.shape}\")\n",
        "\n"
      ],
      "metadata": {
        "colab": {
          "base_uri": "https://localhost:8080/"
        },
        "id": "2IIgc5bMzq5h",
        "outputId": "2b7ddd49-50ec-4520-b4c8-689bc11a3866"
      },
      "execution_count": 56,
      "outputs": [
        {
          "output_type": "stream",
          "name": "stdout",
          "text": [
            "Previous tensor:tensor([[5.],\n",
            "        [2.],\n",
            "        [3.],\n",
            "        [4.],\n",
            "        [5.],\n",
            "        [6.],\n",
            "        [7.],\n",
            "        [8.],\n",
            "        [9.]])\n",
            "Previous shape:torch.Size([9, 1])\n",
            "\n",
            "New tensor:tensor([5., 2., 3., 4., 5., 6., 7., 8., 9.])\n",
            "New shape:torch.Size([9])\n"
          ]
        }
      ]
    },
    {
      "cell_type": "code",
      "source": [
        "x_reshaped.shape\n"
      ],
      "metadata": {
        "colab": {
          "base_uri": "https://localhost:8080/"
        },
        "id": "1yPoffni0tpo",
        "outputId": "5abf1400-fb28-458c-e1cf-b17ad1c8ef50"
      },
      "execution_count": 54,
      "outputs": [
        {
          "output_type": "execute_result",
          "data": {
            "text/plain": [
              "torch.Size([9, 1])"
            ]
          },
          "metadata": {},
          "execution_count": 54
        }
      ]
    },
    {
      "cell_type": "code",
      "source": [
        "x_reshaped.squeeze()"
      ],
      "metadata": {
        "colab": {
          "base_uri": "https://localhost:8080/"
        },
        "id": "ECufmdSZ8WYd",
        "outputId": "5cf9ad6e-78eb-4cfa-9665-d23ca597d3d1"
      },
      "execution_count": 52,
      "outputs": [
        {
          "output_type": "execute_result",
          "data": {
            "text/plain": [
              "tensor([5., 2., 3., 4., 5., 6., 7., 8., 9.])"
            ]
          },
          "metadata": {},
          "execution_count": 52
        }
      ]
    },
    {
      "cell_type": "code",
      "source": [
        "x_reshaped.squeeze().shape"
      ],
      "metadata": {
        "colab": {
          "base_uri": "https://localhost:8080/"
        },
        "id": "UipAuTZl8YgD",
        "outputId": "ff8786df-60ac-471e-e108-28b7303cb8ee"
      },
      "execution_count": 53,
      "outputs": [
        {
          "output_type": "execute_result",
          "data": {
            "text/plain": [
              "torch.Size([9])"
            ]
          },
          "metadata": {},
          "execution_count": 53
        }
      ]
    },
    {
      "cell_type": "code",
      "source": [
        "# torch.unsqueeze() -adds a single dimension to a target tensor at a specific dim(dimension)\n",
        "print(f\"Previous target:{x_squeezed}\")\n",
        "print(f\"Previous shape:{x_squeezed.shape}\")\n",
        "\n",
        "# Add an extra dimension with unsqeeze\n",
        "x_unsqueezed =x_squeezed.unsqueeze(dim=0)\n",
        "print(f\"\\nNew tensor:{x_unsqueezed}\")\n",
        "print(f\"\\nNew tensor:{x_unsqueezed}\")\n",
        "print(f\"New shape:{x_unsqueezed.shape}\")"
      ],
      "metadata": {
        "colab": {
          "base_uri": "https://localhost:8080/"
        },
        "id": "_JeUZ9RB8f5I",
        "outputId": "3834abb1-a68b-440b-a3e7-a602df14ca26"
      },
      "execution_count": 57,
      "outputs": [
        {
          "output_type": "stream",
          "name": "stdout",
          "text": [
            "Previous target:tensor([5., 2., 3., 4., 5., 6., 7., 8., 9.])\n",
            "Previous shape:torch.Size([9])\n",
            "\n",
            "New tensor:tensor([[5., 2., 3., 4., 5., 6., 7., 8., 9.]])\n",
            "\n",
            "New tensor:tensor([[5., 2., 3., 4., 5., 6., 7., 8., 9.]])\n",
            "New shape:torch.Size([1, 9])\n"
          ]
        }
      ]
    },
    {
      "cell_type": "code",
      "source": [
        "#torch.permute - rearranges the dimensions of a target tensor in a specified order\n",
        "x_original = torch.rand(size=(224,224,3))# [height ,width,colour_channels]\n",
        "#permute the original tensor to rearrange the axix(or dim)order\n",
        "x_permuted =x_original.permute(2,0,1) ##shifts axis 0->1, 1->2, 2->0\n",
        "print(f\"Previous shape:{x_original.shape}\")\n",
        "print(f\"New shape:{x_permuted.shape}\") # [colour_channels,height,width]\n"
      ],
      "metadata": {
        "colab": {
          "base_uri": "https://localhost:8080/"
        },
        "id": "2hleuPQ5BcXM",
        "outputId": "9b32c4a3-2efc-4f41-91a5-11b4793119da"
      },
      "execution_count": 59,
      "outputs": [
        {
          "output_type": "stream",
          "name": "stdout",
          "text": [
            "Previous shape:torch.Size([224, 224, 3])\n",
            "New shape:torch.Size([3, 224, 224])\n"
          ]
        }
      ]
    },
    {
      "cell_type": "code",
      "source": [
        "x_reshaped.squeeze()"
      ],
      "metadata": {
        "colab": {
          "base_uri": "https://localhost:8080/"
        },
        "id": "nMw9YVad-lV8",
        "outputId": "0905be46-011e-461e-ca8d-f784435889da"
      },
      "execution_count": 58,
      "outputs": [
        {
          "output_type": "execute_result",
          "data": {
            "text/plain": [
              "tensor([5., 2., 3., 4., 5., 6., 7., 8., 9.])"
            ]
          },
          "metadata": {},
          "execution_count": 58
        }
      ]
    },
    {
      "cell_type": "code",
      "source": [
        "x_original"
      ],
      "metadata": {
        "colab": {
          "base_uri": "https://localhost:8080/"
        },
        "id": "yJNlWPJiE3T6",
        "outputId": "d3bd002d-ccf5-4ba5-8901-baca8829b9b0"
      },
      "execution_count": 62,
      "outputs": [
        {
          "output_type": "execute_result",
          "data": {
            "text/plain": [
              "tensor([[[7.2822e+05, 2.8783e-02, 6.9867e-01],\n",
              "         [8.0005e-01, 7.4599e-01, 2.3262e-01],\n",
              "         [7.1709e-01, 8.3820e-01, 4.8962e-01],\n",
              "         ...,\n",
              "         [5.5891e-01, 6.5859e-01, 5.1384e-01],\n",
              "         [1.1952e-01, 9.2795e-02, 5.1790e-01],\n",
              "         [9.2293e-01, 3.8218e-02, 5.9752e-01]],\n",
              "\n",
              "        [[5.7013e-01, 7.8323e-01, 1.5295e-01],\n",
              "         [5.3222e-01, 6.6589e-01, 8.5245e-01],\n",
              "         [6.7877e-01, 4.5178e-01, 3.2388e-01],\n",
              "         ...,\n",
              "         [2.0257e-01, 5.8777e-01, 8.4281e-01],\n",
              "         [2.5724e-01, 7.1069e-01, 4.7057e-01],\n",
              "         [6.9722e-01, 4.2366e-01, 9.2588e-01]],\n",
              "\n",
              "        [[4.7445e-01, 3.7084e-02, 4.2466e-01],\n",
              "         [4.4189e-01, 1.0549e-02, 7.4295e-01],\n",
              "         [5.6612e-01, 2.8635e-01, 3.7049e-01],\n",
              "         ...,\n",
              "         [6.1179e-01, 2.3098e-01, 1.4021e-01],\n",
              "         [8.8329e-01, 5.2146e-01, 3.5858e-01],\n",
              "         [6.7844e-01, 6.4406e-01, 7.6828e-01]],\n",
              "\n",
              "        ...,\n",
              "\n",
              "        [[8.9804e-01, 5.6817e-01, 1.1309e-01],\n",
              "         [5.6520e-03, 1.8029e-01, 6.3046e-01],\n",
              "         [1.5222e-02, 4.4278e-01, 5.8873e-01],\n",
              "         ...,\n",
              "         [1.8535e-01, 1.9970e-01, 3.9235e-01],\n",
              "         [3.8177e-01, 6.6533e-01, 8.1537e-01],\n",
              "         [7.2417e-02, 6.0365e-01, 5.8909e-01]],\n",
              "\n",
              "        [[5.5658e-01, 5.6085e-01, 4.4874e-01],\n",
              "         [5.2628e-01, 5.9585e-01, 9.0142e-01],\n",
              "         [3.3824e-01, 4.6096e-01, 2.9873e-01],\n",
              "         ...,\n",
              "         [4.1673e-01, 3.2034e-01, 4.6843e-01],\n",
              "         [3.1967e-01, 8.0826e-01, 1.0665e-02],\n",
              "         [8.9594e-01, 2.6560e-01, 7.0145e-01]],\n",
              "\n",
              "        [[6.7727e-01, 4.0404e-01, 9.5032e-01],\n",
              "         [2.9602e-01, 6.8226e-01, 3.7977e-01],\n",
              "         [8.3223e-01, 8.1680e-01, 3.7888e-01],\n",
              "         ...,\n",
              "         [8.3234e-01, 2.8228e-01, 6.1427e-01],\n",
              "         [2.3216e-01, 7.8476e-01, 6.8898e-01],\n",
              "         [8.1666e-01, 5.4227e-01, 2.5328e-01]]])"
            ]
          },
          "metadata": {},
          "execution_count": 62
        }
      ]
    },
    {
      "cell_type": "code",
      "source": [
        "x_original[0, 0 ,0]= 728218\n"
      ],
      "metadata": {
        "id": "StgIUmvXD9nb"
      },
      "execution_count": 65,
      "outputs": []
    },
    {
      "cell_type": "code",
      "source": [
        "x_original[0 ,0 ,0]=728218\n",
        "x_original[0 ,0 ,0], x_permuted[0,0,0]\n"
      ],
      "metadata": {
        "colab": {
          "base_uri": "https://localhost:8080/"
        },
        "id": "lOQgl849EOs9",
        "outputId": "8ee21214-503e-4215-ab10-8d1c91a5b596"
      },
      "execution_count": 66,
      "outputs": [
        {
          "output_type": "execute_result",
          "data": {
            "text/plain": [
              "(tensor(728218.), tensor(728218.))"
            ]
          },
          "metadata": {},
          "execution_count": 66
        }
      ]
    }
  ]
}