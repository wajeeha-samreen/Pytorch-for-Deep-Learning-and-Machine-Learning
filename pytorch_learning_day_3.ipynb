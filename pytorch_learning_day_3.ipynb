{
  "nbformat": 4,
  "nbformat_minor": 0,
  "metadata": {
    "colab": {
      "provenance": [],
      "authorship_tag": "ABX9TyOoCDKfaDHpSaOoAUoiDY/A"
    },
    "kernelspec": {
      "name": "python3",
      "display_name": "Python 3"
    },
    "language_info": {
      "name": "python"
    }
  },
  "cells": [
    {
      "cell_type": "markdown",
      "source": [
        "###Creating a range of tensors and tensors-like"
      ],
      "metadata": {
        "id": "gOxvwfuVrTvZ"
      }
    },
    {
      "cell_type": "code",
      "source": [
        "import torch\n",
        "import pandas as pd\n",
        "import numpy as np\n",
        "import matplotlib.pyplot as plt\n",
        "print(torch.__version__)"
      ],
      "metadata": {
        "colab": {
          "base_uri": "https://localhost:8080/"
        },
        "id": "xg_ireDjtuW3",
        "outputId": "d4358b66-95c3-4154-9c92-9e8f9b6282df"
      },
      "execution_count": 30,
      "outputs": [
        {
          "output_type": "stream",
          "name": "stdout",
          "text": [
            "2.1.0+cu121\n"
          ]
        }
      ]
    },
    {
      "cell_type": "code",
      "source": [
        "#Use torch.range()\n",
        "torch.arange(1,10)"
      ],
      "metadata": {
        "colab": {
          "base_uri": "https://localhost:8080/"
        },
        "id": "uavg5BiWrRWA",
        "outputId": "acc1458c-1542-4a75-a848-113dc832aa3a"
      },
      "execution_count": 31,
      "outputs": [
        {
          "output_type": "execute_result",
          "data": {
            "text/plain": [
              "tensor([1, 2, 3, 4, 5, 6, 7, 8, 9])"
            ]
          },
          "metadata": {},
          "execution_count": 31
        }
      ]
    },
    {
      "cell_type": "code",
      "source": [
        "one_to_ten = torch.arange(start =0, end=11, step=1)\n",
        "one_to_ten"
      ],
      "metadata": {
        "colab": {
          "base_uri": "https://localhost:8080/"
        },
        "id": "fZ8CYtgEsUVd",
        "outputId": "b9044154-a145-4e75-ede5-85e0b94a0751"
      },
      "execution_count": 32,
      "outputs": [
        {
          "output_type": "execute_result",
          "data": {
            "text/plain": [
              "tensor([ 0,  1,  2,  3,  4,  5,  6,  7,  8,  9, 10])"
            ]
          },
          "metadata": {},
          "execution_count": 32
        }
      ]
    },
    {
      "cell_type": "code",
      "source": [
        "\n",
        "one_to_ten = torch.arange(start =0, end=1000, step=77)\n",
        "one_to_ten"
      ],
      "metadata": {
        "colab": {
          "base_uri": "https://localhost:8080/"
        },
        "id": "3ta6-JRzr0wp",
        "outputId": "43de562b-32ba-4f37-a24a-f735200b743e"
      },
      "execution_count": 33,
      "outputs": [
        {
          "output_type": "execute_result",
          "data": {
            "text/plain": [
              "tensor([  0,  77, 154, 231, 308, 385, 462, 539, 616, 693, 770, 847, 924])"
            ]
          },
          "metadata": {},
          "execution_count": 33
        }
      ]
    },
    {
      "cell_type": "code",
      "source": [
        "# Use torch.range() and get deprecated message, use torch.arange()\n",
        "one_to_ten = torch.arange(start =1, end=11, step=1)\n",
        "one_to_ten"
      ],
      "metadata": {
        "colab": {
          "base_uri": "https://localhost:8080/"
        },
        "id": "6yiJ_bevslv8",
        "outputId": "08170c36-d674-4093-9046-eb5bcd0ee4c4"
      },
      "execution_count": 34,
      "outputs": [
        {
          "output_type": "execute_result",
          "data": {
            "text/plain": [
              "tensor([ 1,  2,  3,  4,  5,  6,  7,  8,  9, 10])"
            ]
          },
          "metadata": {},
          "execution_count": 34
        }
      ]
    },
    {
      "cell_type": "code",
      "source": [
        "# Creating tensors like\n",
        "ten_zeros = torch.zeros_like(input =one_to_ten)\n",
        "ten_zeros"
      ],
      "metadata": {
        "colab": {
          "base_uri": "https://localhost:8080/"
        },
        "id": "kjEDlzn1sxDi",
        "outputId": "82e932d2-c22d-4f42-8ff9-cdf5169a57d9"
      },
      "execution_count": 35,
      "outputs": [
        {
          "output_type": "execute_result",
          "data": {
            "text/plain": [
              "tensor([0, 0, 0, 0, 0, 0, 0, 0, 0, 0])"
            ]
          },
          "metadata": {},
          "execution_count": 35
        }
      ]
    },
    {
      "cell_type": "markdown",
      "source": [
        "## Tensor DataTypes"
      ],
      "metadata": {
        "id": "Civm92YIt9W-"
      }
    },
    {
      "cell_type": "markdown",
      "source": [
        "\n",
        "**Note:** Tensor datatypes is one of the 3 big errors you'll run into Pytorch & deep Learning\n",
        "\n",
        "####1.  Tensors not right datatype\n",
        "####2.  Tensors not right shape\n",
        "####3.  Tensors not on the right device"
      ],
      "metadata": {
        "id": "b8LWUukFvYET"
      }
    },
    {
      "cell_type": "code",
      "source": [
        "# Float 32 tensor\n",
        "float_32_tensor = torch.tensor([3.0 , 6.0 , 9.0],\n",
        "                               dtype=None,  #What datatype is a is the tensor(e.g float32 or float16)\n",
        "                               device=None,#what device is your tensor on\n",
        "                               requires_grad=False) #whether or not to track gradients via with this tensors operations\n",
        "float_32_tensor"
      ],
      "metadata": {
        "colab": {
          "base_uri": "https://localhost:8080/"
        },
        "id": "Ix6O1eRauHqV",
        "outputId": "e9ea478c-2bbb-413c-de4a-2ee0291e6e33"
      },
      "execution_count": 42,
      "outputs": [
        {
          "output_type": "execute_result",
          "data": {
            "text/plain": [
              "tensor([3., 6., 9.])"
            ]
          },
          "metadata": {},
          "execution_count": 42
        }
      ]
    },
    {
      "cell_type": "code",
      "source": [
        "float_32_tensor.dtype"
      ],
      "metadata": {
        "colab": {
          "base_uri": "https://localhost:8080/"
        },
        "id": "7iRdM2ZgwoAS",
        "outputId": "e424567d-e330-4d50-9fc6-f0f0be48f4da"
      },
      "execution_count": 39,
      "outputs": [
        {
          "output_type": "execute_result",
          "data": {
            "text/plain": [
              "torch.float32"
            ]
          },
          "metadata": {},
          "execution_count": 39
        }
      ]
    },
    {
      "cell_type": "code",
      "source": [
        "float_16_tensor = float_32_tensor.type(torch.float16)\n",
        "float_16_tensor"
      ],
      "metadata": {
        "colab": {
          "base_uri": "https://localhost:8080/"
        },
        "id": "3QV4RXYnyUmb",
        "outputId": "709c4f61-5df3-4e0c-a172-434bf7ab6dd6"
      },
      "execution_count": 44,
      "outputs": [
        {
          "output_type": "execute_result",
          "data": {
            "text/plain": [
              "tensor([3., 6., 9.], dtype=torch.float16)"
            ]
          },
          "metadata": {},
          "execution_count": 44
        }
      ]
    },
    {
      "cell_type": "code",
      "source": [
        "float_16_tensor * float_32_tensor"
      ],
      "metadata": {
        "colab": {
          "base_uri": "https://localhost:8080/"
        },
        "id": "9HiMPkCYzjrO",
        "outputId": "dc3d4655-f189-4c8d-ba39-f2f36657735c"
      },
      "execution_count": 46,
      "outputs": [
        {
          "output_type": "execute_result",
          "data": {
            "text/plain": [
              "tensor([ 9., 36., 81.])"
            ]
          },
          "metadata": {},
          "execution_count": 46
        }
      ]
    },
    {
      "cell_type": "code",
      "source": [
        "int_32_tensor =torch.tensor([3 , 6 , 9],dtype=torch.int64)\n",
        "int_32_tensor"
      ],
      "metadata": {
        "colab": {
          "base_uri": "https://localhost:8080/"
        },
        "id": "Essavw8gzz-U",
        "outputId": "7320e03f-7b76-4a25-86f2-a0c7873fd631"
      },
      "execution_count": 47,
      "outputs": [
        {
          "output_type": "execute_result",
          "data": {
            "text/plain": [
              "tensor([3, 6, 9])"
            ]
          },
          "metadata": {},
          "execution_count": 47
        }
      ]
    },
    {
      "cell_type": "code",
      "source": [
        "int_32_tensor =torch.tensor([3 , 6 , 9],dtype=torch.long)\n",
        "int_32_tensor"
      ],
      "metadata": {
        "colab": {
          "base_uri": "https://localhost:8080/"
        },
        "id": "lgP73ojA0TYO",
        "outputId": "7e5b0d8a-05bf-4a3e-d12b-6aa5c8c38994"
      },
      "execution_count": 48,
      "outputs": [
        {
          "output_type": "execute_result",
          "data": {
            "text/plain": [
              "tensor([3, 6, 9])"
            ]
          },
          "metadata": {},
          "execution_count": 48
        }
      ]
    },
    {
      "cell_type": "code",
      "source": [
        "float_16_tensor * float_32_tensor"
      ],
      "metadata": {
        "colab": {
          "base_uri": "https://localhost:8080/"
        },
        "id": "OsnVVcDh01My",
        "outputId": "f7e18126-cc84-4097-f75b-fc2aa4dc3955"
      },
      "execution_count": 49,
      "outputs": [
        {
          "output_type": "execute_result",
          "data": {
            "text/plain": [
              "tensor([ 9., 36., 81.])"
            ]
          },
          "metadata": {},
          "execution_count": 49
        }
      ]
    },
    {
      "cell_type": "markdown",
      "source": [
        "### Getting information from tensors\n",
        "  \n",
        "\n",
        "  1.Tensors not right datatype - to do get datatype from a tensor, can use `tensor.dtype`\n",
        "\n",
        "  2.Tensors not right shape - to get shape from a tensor,can use `tensor.shape`\n",
        "  \n",
        "  3.Tensors not on the right device - to get device from a tensor, can use `tensor.device`"
      ],
      "metadata": {
        "id": "Pfq1U_SO1KhM"
      }
    },
    {
      "cell_type": "code",
      "source": [
        "# Create a tensor\n",
        "some_tensor =torch.rand(3,4)\n",
        "some_tensor"
      ],
      "metadata": {
        "colab": {
          "base_uri": "https://localhost:8080/"
        },
        "id": "mJbYXgQp0_7r",
        "outputId": "b97cb559-c967-484b-b34d-adfefb587f55"
      },
      "execution_count": 50,
      "outputs": [
        {
          "output_type": "execute_result",
          "data": {
            "text/plain": [
              "tensor([[0.6967, 0.9965, 0.8711, 0.3265],\n",
              "        [0.5666, 0.4107, 0.9145, 0.2774],\n",
              "        [0.9925, 0.9017, 0.1993, 0.5595]])"
            ]
          },
          "metadata": {},
          "execution_count": 50
        }
      ]
    },
    {
      "cell_type": "code",
      "source": [
        "# Find out details about some tensor\n",
        "print(some_tensor)\n",
        "print(f\"Datatype of tensor: {some_tensor.dtype}\")\n",
        "print(f\"Shape of tensor:{some_tensor.shape}\")\n",
        "print(f\"Device tensor is on:{some_tensor.device}\")"
      ],
      "metadata": {
        "colab": {
          "base_uri": "https://localhost:8080/"
        },
        "id": "1XF9sdjjC4ev",
        "outputId": "0a14fe2d-4311-4658-f2ab-0c715ed62d86"
      },
      "execution_count": 52,
      "outputs": [
        {
          "output_type": "stream",
          "name": "stdout",
          "text": [
            "tensor([[0.6967, 0.9965, 0.8711, 0.3265],\n",
            "        [0.5666, 0.4107, 0.9145, 0.2774],\n",
            "        [0.9925, 0.9017, 0.1993, 0.5595]])\n",
            "Datatype of tensor: torch.float32\n",
            "Shape of tensor:torch.Size([3, 4])\n",
            "Device tensor is on:cpu\n"
          ]
        }
      ]
    },
    {
      "cell_type": "markdown",
      "source": [
        "### Manipulating Tensors (tensor operations)\n",
        "\n",
        "\n",
        "Tensor operation include:\n",
        "* Addition\n",
        "* Subtraction\n",
        "* Multiplication(element-wise)\n",
        "* Division\n",
        "* Matrix multiplication"
      ],
      "metadata": {
        "id": "7U2mpfqoG6wZ"
      }
    },
    {
      "cell_type": "code",
      "source": [
        "# Create a tensor and add 10 to it\n",
        "tensor =torch.tensor([1 , 2 , 3])\n",
        "tensor + 10"
      ],
      "metadata": {
        "colab": {
          "base_uri": "https://localhost:8080/"
        },
        "id": "ge9tbIiIGzIU",
        "outputId": "6931296a-4c9b-490e-ece4-916e4a054086"
      },
      "execution_count": 55,
      "outputs": [
        {
          "output_type": "execute_result",
          "data": {
            "text/plain": [
              "tensor([11, 12, 13])"
            ]
          },
          "metadata": {},
          "execution_count": 55
        }
      ]
    },
    {
      "cell_type": "code",
      "source": [
        "# Create a tensor and multiply 10 to it\n",
        "tensor =torch.tensor([1 , 2 , 3])\n",
        "tensor * 10"
      ],
      "metadata": {
        "colab": {
          "base_uri": "https://localhost:8080/"
        },
        "id": "ETBajfaQDqwX",
        "outputId": "4f306aa4-a493-4543-b821-8b3e8011726b"
      },
      "execution_count": 56,
      "outputs": [
        {
          "output_type": "execute_result",
          "data": {
            "text/plain": [
              "tensor([10, 20, 30])"
            ]
          },
          "metadata": {},
          "execution_count": 56
        }
      ]
    },
    {
      "cell_type": "code",
      "source": [
        "tensor * 10"
      ],
      "metadata": {
        "colab": {
          "base_uri": "https://localhost:8080/"
        },
        "id": "4aCPlj3IIGc1",
        "outputId": "f8e15ff6-df30-4f3d-a5f4-cefa0406358d"
      },
      "execution_count": 57,
      "outputs": [
        {
          "output_type": "execute_result",
          "data": {
            "text/plain": [
              "tensor([10, 20, 30])"
            ]
          },
          "metadata": {},
          "execution_count": 57
        }
      ]
    },
    {
      "cell_type": "code",
      "source": [
        "# Create a tensor and Subtract 10 to it\n",
        "tensor =torch.tensor([1 , 2 , 3])\n",
        "tensor -  10"
      ],
      "metadata": {
        "colab": {
          "base_uri": "https://localhost:8080/"
        },
        "id": "th-DYKAYDkIR",
        "outputId": "7a6236dd-1dc8-4a61-8964-a0bb15437deb"
      },
      "execution_count": 58,
      "outputs": [
        {
          "output_type": "execute_result",
          "data": {
            "text/plain": [
              "tensor([-9, -8, -7])"
            ]
          },
          "metadata": {},
          "execution_count": 58
        }
      ]
    },
    {
      "cell_type": "code",
      "source": [
        "# Try out pytorch in-built functions\n",
        "torch.mul(tensor , 10)"
      ],
      "metadata": {
        "colab": {
          "base_uri": "https://localhost:8080/"
        },
        "id": "RDlM73qBIRDJ",
        "outputId": "c8aad312-efcd-42dd-c80a-d6c3d772cb6b"
      },
      "execution_count": 59,
      "outputs": [
        {
          "output_type": "execute_result",
          "data": {
            "text/plain": [
              "tensor([10, 20, 30])"
            ]
          },
          "metadata": {},
          "execution_count": 59
        }
      ]
    },
    {
      "cell_type": "code",
      "source": [
        "torch.add(tensor , 10)"
      ],
      "metadata": {
        "colab": {
          "base_uri": "https://localhost:8080/"
        },
        "id": "HUmtquaMIbws",
        "outputId": "da1d7464-2491-4280-b143-b3f06e6344a4"
      },
      "execution_count": 62,
      "outputs": [
        {
          "output_type": "execute_result",
          "data": {
            "text/plain": [
              "tensor([11, 12, 13])"
            ]
          },
          "metadata": {},
          "execution_count": 62
        }
      ]
    },
    {
      "cell_type": "markdown",
      "source": [
        "## Matrix multiplication\n",
        "Two main ways of performing multiplication in networks and deep learning:\n",
        "\n",
        "1. Element-wise multiplication\n",
        "2. Matrix multiplication(dot product)\n",
        "\n",
        "\n",
        "There are two main rules that are performingmatrix multiplication needs to satisfy:\n",
        "1. The **inner dimensions** must match:\n",
        "\n",
        "    * `(3,2) @ (3,2)` won't work\n",
        "\n",
        "    * `(2,3) @ (3,2)` will work\n",
        "\n",
        "    * `(3,2) @ (2,3)` will work\n",
        "\n",
        "2. The resulting matrix has the shape of the **outer dimensions**:\n",
        "\n",
        " * `(2,3) @ (3,2)` -> `(2, 2)`\n",
        " * `(3,2) @ (3,2)` -> `(2, 2)`"
      ],
      "metadata": {
        "id": "CDEh7peXIyuE"
      }
    },
    {
      "cell_type": "code",
      "source": [
        "torch.matmul(torch.rand(2,3),torch.rand(3,2))"
      ],
      "metadata": {
        "colab": {
          "base_uri": "https://localhost:8080/"
        },
        "id": "QbCl-MgCRBeC",
        "outputId": "a34544f8-340e-43e8-f81c-f72c2ec20c0a"
      },
      "execution_count": 77,
      "outputs": [
        {
          "output_type": "execute_result",
          "data": {
            "text/plain": [
              "tensor([[0.7929, 1.4389],\n",
              "        [0.9599, 1.4516]])"
            ]
          },
          "metadata": {},
          "execution_count": 77
        }
      ]
    },
    {
      "cell_type": "code",
      "source": [
        "torch.matmul(torch.rand(3,2),torch.rand(2,3))"
      ],
      "metadata": {
        "colab": {
          "base_uri": "https://localhost:8080/"
        },
        "id": "Uq_8OH1rRM7S",
        "outputId": "b71b8de3-0920-48dc-bc2c-6e280b46a29a"
      },
      "execution_count": 78,
      "outputs": [
        {
          "output_type": "execute_result",
          "data": {
            "text/plain": [
              "tensor([[0.3479, 0.4675, 0.9371],\n",
              "        [0.3226, 0.4973, 1.0442],\n",
              "        [0.3300, 0.4348, 0.8652]])"
            ]
          },
          "metadata": {},
          "execution_count": 78
        }
      ]
    },
    {
      "cell_type": "code",
      "source": [
        "torch.matmul(torch.rand(3,10),torch.rand(10,3))"
      ],
      "metadata": {
        "colab": {
          "base_uri": "https://localhost:8080/"
        },
        "id": "ZY-zD7VtRYs1",
        "outputId": "d3ba8fe6-b256-44c3-d22a-66e46baa18c6"
      },
      "execution_count": 79,
      "outputs": [
        {
          "output_type": "execute_result",
          "data": {
            "text/plain": [
              "tensor([[0.9098, 2.3734, 2.2058],\n",
              "        [2.4230, 3.8972, 3.8401],\n",
              "        [1.6806, 2.2315, 1.7114]])"
            ]
          },
          "metadata": {},
          "execution_count": 79
        }
      ]
    },
    {
      "cell_type": "code",
      "source": [
        "torch.matmul(torch.rand(10,10),torch.rand(10,10))"
      ],
      "metadata": {
        "colab": {
          "base_uri": "https://localhost:8080/"
        },
        "id": "Lay0K6upRko1",
        "outputId": "a462eaa4-5686-4c4f-aabe-3e9c30e8bd59"
      },
      "execution_count": 80,
      "outputs": [
        {
          "output_type": "execute_result",
          "data": {
            "text/plain": [
              "tensor([[1.7820, 2.2375, 1.9768, 2.6945, 2.4749, 2.2129, 2.5659, 2.1405, 2.9659,\n",
              "         2.8671],\n",
              "        [1.5490, 2.0439, 1.5889, 2.2256, 1.9370, 1.8169, 2.1933, 1.7962, 2.6116,\n",
              "         2.4646],\n",
              "        [2.1565, 2.4173, 2.1728, 2.5021, 2.5308, 2.5004, 2.8093, 2.8237, 3.8567,\n",
              "         2.7252],\n",
              "        [1.5113, 1.7095, 1.6345, 1.5240, 2.0369, 1.9697, 2.1170, 2.0925, 2.9925,\n",
              "         2.1429],\n",
              "        [1.6995, 1.8197, 1.1164, 1.9717, 2.3454, 1.3770, 2.2024, 1.6475, 2.5307,\n",
              "         2.0416],\n",
              "        [2.0773, 2.1094, 1.3131, 2.1462, 2.8053, 2.4395, 2.8221, 2.3885, 3.2116,\n",
              "         2.6650],\n",
              "        [2.4143, 2.8197, 2.4285, 3.0480, 3.1915, 2.8447, 3.1632, 2.5437, 3.9955,\n",
              "         3.6414],\n",
              "        [1.8006, 1.9186, 1.8970, 1.6708, 2.2385, 1.8162, 2.1586, 2.1705, 3.4666,\n",
              "         2.2184],\n",
              "        [1.6826, 2.0976, 1.7284, 1.8564, 2.1435, 2.1445, 2.1047, 2.2877, 3.1690,\n",
              "         2.5005],\n",
              "        [1.7201, 2.1581, 1.7538, 1.9796, 2.1234, 2.1148, 2.3696, 2.0670, 3.2355,\n",
              "         2.5819]])"
            ]
          },
          "metadata": {},
          "execution_count": 80
        }
      ]
    },
    {
      "cell_type": "code",
      "source": [
        "# Element wise multiplication\n",
        "print(tensor, \"*\" ,tensor)"
      ],
      "metadata": {
        "colab": {
          "base_uri": "https://localhost:8080/"
        },
        "id": "avq4IO3mIic2",
        "outputId": "629a8b61-3fd9-4bc3-ce57-9cb1a664a769"
      },
      "execution_count": 63,
      "outputs": [
        {
          "output_type": "stream",
          "name": "stdout",
          "text": [
            "tensor([1, 2, 3]) * tensor([1, 2, 3])\n"
          ]
        }
      ]
    },
    {
      "cell_type": "code",
      "source": [
        "# Element wise multiplication\n",
        "print(tensor, \"*\" , tensor)\n",
        "print(f\"Equals:({tensor * tensor}\")"
      ],
      "metadata": {
        "colab": {
          "base_uri": "https://localhost:8080/"
        },
        "id": "37hU_7tyNWe5",
        "outputId": "92dc2619-57fc-44bd-d78f-2eb0734680f3"
      },
      "execution_count": 69,
      "outputs": [
        {
          "output_type": "stream",
          "name": "stdout",
          "text": [
            "tensor([1, 2, 3]) * tensor([1, 2, 3])\n",
            "Equals:(tensor([1, 4, 9])\n"
          ]
        }
      ]
    },
    {
      "cell_type": "code",
      "source": [
        "# matrix multiplication\n",
        "torch.matmul(tensor, tensor)"
      ],
      "metadata": {
        "colab": {
          "base_uri": "https://localhost:8080/"
        },
        "id": "U5TuOR_-Ng7U",
        "outputId": "b610fe3f-5be8-4424-e90e-9ffeeee8914e"
      },
      "execution_count": 70,
      "outputs": [
        {
          "output_type": "execute_result",
          "data": {
            "text/plain": [
              "tensor(14)"
            ]
          },
          "metadata": {},
          "execution_count": 70
        }
      ]
    },
    {
      "cell_type": "code",
      "source": [
        "tensor"
      ],
      "metadata": {
        "colab": {
          "base_uri": "https://localhost:8080/"
        },
        "id": "Did1EqIvOAjI",
        "outputId": "a6fbb48b-6c94-4409-cb44-0cd3413525ee"
      },
      "execution_count": 71,
      "outputs": [
        {
          "output_type": "execute_result",
          "data": {
            "text/plain": [
              "tensor([1, 2, 3])"
            ]
          },
          "metadata": {},
          "execution_count": 71
        }
      ]
    },
    {
      "cell_type": "code",
      "source": [
        "# Matrix multiplication by Hand\n",
        "1 * 1 + 2 * 2 + 3 * 3\n"
      ],
      "metadata": {
        "colab": {
          "base_uri": "https://localhost:8080/"
        },
        "id": "4SdMPyGyODUM",
        "outputId": "7acffd31-2ffb-4176-ff69-2dcfb1de210d"
      },
      "execution_count": 72,
      "outputs": [
        {
          "output_type": "execute_result",
          "data": {
            "text/plain": [
              "14"
            ]
          },
          "metadata": {},
          "execution_count": 72
        }
      ]
    },
    {
      "cell_type": "code",
      "source": [
        "%%time\n",
        "value = 0\n",
        "for i in range(len(tensor)):\n",
        "  value += tensor[i] * tensor[i]\n",
        "print(value)\n"
      ],
      "metadata": {
        "colab": {
          "base_uri": "https://localhost:8080/"
        },
        "id": "JfvvpMttOSJV",
        "outputId": "e87bf460-cc3f-49f3-d9fd-1a5bd92d00b6"
      },
      "execution_count": 75,
      "outputs": [
        {
          "output_type": "stream",
          "name": "stdout",
          "text": [
            "tensor(14)\n",
            "CPU times: user 1.85 ms, sys: 0 ns, total: 1.85 ms\n",
            "Wall time: 1.78 ms\n"
          ]
        }
      ]
    },
    {
      "cell_type": "code",
      "source": [
        "%%time\n",
        "torch.matmul(tensor, tensor)"
      ],
      "metadata": {
        "colab": {
          "base_uri": "https://localhost:8080/"
        },
        "id": "hgfmJjF5Oj5z",
        "outputId": "4df68f34-9753-4880-8033-c2fb8b22e122"
      },
      "execution_count": 76,
      "outputs": [
        {
          "output_type": "stream",
          "name": "stdout",
          "text": [
            "CPU times: user 438 µs, sys: 40 µs, total: 478 µs\n",
            "Wall time: 481 µs\n"
          ]
        },
        {
          "output_type": "execute_result",
          "data": {
            "text/plain": [
              "tensor(14)"
            ]
          },
          "metadata": {},
          "execution_count": 76
        }
      ]
    }
  ]
}